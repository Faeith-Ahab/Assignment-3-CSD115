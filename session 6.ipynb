{
 "cells": [
  {
   "cell_type": "code",
   "execution_count": 11,
   "metadata": {},
   "outputs": [
    {
     "name": "stdout",
     "output_type": "stream",
     "text": [
      "4\n"
     ]
    }
   ],
   "source": [
    "\n",
    "import numpy as np\n",
    "\n",
    "# Create a list with 4 elements then use this type & len to confirm that it is a list of 4 elements\n",
    "\n",
    "a = 2\n",
    "b = 3\n",
    "c = 4\n",
    "d = 5\n",
    "\n",
    "inp_lst= ['2','3','4','5']\n",
    "size =len(inp_lst)\n",
    "print(size)"
   ]
  },
  {
   "cell_type": "code",
   "execution_count": 22,
   "metadata": {},
   "outputs": [
    {
     "name": "stdout",
     "output_type": "stream",
     "text": [
      "22.9\n",
      "The sum of kfc is; 22.9\n",
      " \n",
      "43.75\n",
      "The sum of cjs is; 43.75\n",
      " \n",
      "20.85\n",
      "The difference of the sum between cjs and kfc is; 20.85\n",
      " \n",
      "33.325\n",
      "The mean is; 33.325\n",
      " \n"
     ]
    },
    {
     "data": {
      "text/plain": [
       "0.0"
      ]
     },
     "execution_count": 22,
     "metadata": {},
     "output_type": "execute_result"
    }
   ],
   "source": [
    "import numpy as np\n",
    "\n",
    "# Create 2 lists \n",
    "# kfc 7.5, 5, 4.4, 3.75, 2.25\n",
    "# cjs 9.99, 7.99, 7.49, 7.00, 6.29, 4.99\n",
    "\n",
    "list_1 = [7.5, 5, 4.4, 3.75, 2.25]\n",
    "list_2 = [9.99, 7.99, 7.49, 7.00, 6.29, 4.99]\n",
    "\n",
    "#Sum of kfc\n",
    "a = 7.5\n",
    "b = 5.0\n",
    "c = 4.4\n",
    "d = 3.75\n",
    "e = 2.25\n",
    "total_number1 = (a + b + c + d + e)\n",
    "print(total_number1)\n",
    "print(\"The sum of kfc is; \"+ str(total_number1))\n",
    "print(\" \")\n",
    "\n",
    "#Sum of cjs\n",
    "f = 9.99\n",
    "g = 7.99\n",
    "h = 7.49\n",
    "i = 7.00\n",
    "j = 6.29\n",
    "k = 4.99\n",
    "total_number2 = (f + g + h + i + j + k)\n",
    "print(total_number2)\n",
    "print(\"The sum of cjs is; \"+ str(total_number2))\n",
    "print(\" \")\n",
    "\n",
    "# Difference between cjs array and kfc array\n",
    "print(total_number2-total_number1)\n",
    "print(\"The difference of the sum between cjs and kfc is; \"+ str(total_number2-total_number1))\n",
    "print(\" \")\n",
    "\n",
    "# Find the mean of cjs and kfc\n",
    "print((total_number2+total_number1)/2)\n",
    "print(\"The mean is; \"+ str((total_number2+total_number1)/2))\n",
    "print(\" \")\n",
    "\n",
    "# Find the mean difference\n",
    "np.mean(total_number2) - np.mean(total_number1)\n",
    "\n",
    "# Standard deviation\n",
    "np.std(total_number1)\n",
    "np.std(total_number2)\n"
   ]
  },
  {
   "cell_type": "code",
   "execution_count": 23,
   "metadata": {},
   "outputs": [
    {
     "name": "stdout",
     "output_type": "stream",
     "text": [
      "<class 'tuple'>\n",
      "<class 'tuple'>\n"
     ]
    }
   ],
   "source": [
    "# Type of array\n",
    "\n",
    "#kfc\n",
    "list_1 = (7.5, 5, 4.4, 3.75, 2.25)\n",
    "\n",
    "print(type(list_1))\n",
    "\n",
    "#cjs\n",
    "list_2 = (9.99, 7.99, 7.49, 7.00, 6.29, 4.99)\n",
    "print(type(list_2))\n"
   ]
  },
  {
   "cell_type": "code",
   "execution_count": null,
   "metadata": {},
   "outputs": [],
   "source": []
  }
 ],
 "metadata": {
  "kernelspec": {
   "display_name": "Python 3",
   "language": "python",
   "name": "python3"
  },
  "language_info": {
   "codemirror_mode": {
    "name": "ipython",
    "version": 3
   },
   "file_extension": ".py",
   "mimetype": "text/x-python",
   "name": "python",
   "nbconvert_exporter": "python",
   "pygments_lexer": "ipython3",
   "version": "3.11.4"
  },
  "orig_nbformat": 4
 },
 "nbformat": 4,
 "nbformat_minor": 2
}
